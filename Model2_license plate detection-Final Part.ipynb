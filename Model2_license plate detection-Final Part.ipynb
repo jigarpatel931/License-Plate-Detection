{
 "cells": [
  {
   "cell_type": "code",
   "execution_count": null,
   "metadata": {},
   "outputs": [],
   "source": [
    "# model for license plate detection"
   ]
  },
  {
   "cell_type": "code",
   "execution_count": null,
   "metadata": {},
   "outputs": [],
   "source": [
    "# importing required libraries \n",
    "import numpy as np\n",
    "import cv2\n",
    "import pytesseract\n",
    "import imutils\n",
    "import matplotlib.pyplot as plt\n",
    "\n",
    "# reading an image\n",
    "img1 = cv2.imread('3333.jpeg')\n",
    "# for image 1sample.png , 9.png ,10.png ,13.png ,3333.jpeg, sample.jpg,7.png \n",
    "\n",
    "# resize image \n",
    "img = cv2.resize(img1, (620,480) )\n",
    "cv2.imwrite(\"resize_img.jpg\",img) \n",
    "\n",
    "# converting to geay scale\n",
    "gray = cv2.cvtColor(img, cv2.COLOR_BGR2GRAY) #convert to grey scale\n",
    "cv2.imwrite(\"gray_img.jpg\",gray) \n",
    " \n",
    "# using bilateralFilter to remove unwanted noise\n",
    "bilafilter = cv2.bilateralFilter(gray, 11, 19, 19)\n",
    "cv2.imwrite(\"bilafilter_img.jpg\",bilafilter) \n",
    "\n",
    "#Perform Edge detection\n",
    "edged = cv2.Canny(bilafilter, 30, 200) \n",
    "cv2.imwrite(\"edged_img.jpg\",edged) \n",
    "cv2.imshow(\"imageShow\", edged)\n",
    "\n",
    "# finding contours\n",
    "\n",
    "nts = cv2.findContours(edged.copy(), cv2.RETR_TREE, cv2.CHAIN_APPROX_SIMPLE)\n",
    "cnts = imutils.grab_contours(nts)\n",
    "cnts = sorted(cnts, key = cv2.contourArea, reverse = True)[:9]\n",
    "#print(cnts)\n",
    "c=cv2.drawContours(img,cnts,-1,(255,255,0),2)             \n",
    "cv2.imwrite(\"contours_img.jpg\",c) \n",
    "cv2.imshow(\"contours\",c)\n",
    "\n",
    "# list out all possible contours having size(edges count) 4 (probably license plate )\n",
    "plate= None\n",
    "for c in cnts:\n",
    "    perimeter=cv2.arcLength(c,True)\n",
    "    edges_count=cv2.approxPolyDP(c,0.018*perimeter,True)\n",
    "    if len(edges_count) == 4:\n",
    "        plate = edges_count\n",
    "        break\n",
    "\n",
    "# mask will get all the points which comprises that object\n",
    "mask = np.zeros(bilafilter.shape,np.uint8)\n",
    "new_image = cv2.drawContours(mask,[plate],0,255,-1,)\n",
    "new_image = cv2.bitwise_and(img,img,mask=mask)\n",
    "#print(cv2.moments(cnts[0]))\n",
    "(x, y) = np.where(mask == 255)\n",
    "(topx, topy) = (np.min(x), np.min(y))\n",
    "(bottomx, bottomy) = (np.max(x), np.max(y))\n",
    "\n",
    "# cropping the part which has license plate mask\n",
    "Cropped = bilafilter[topx:bottomx+1, topy:bottomy+1]\n",
    "\n",
    "cv2.imwrite(\"mask_img.jpg\",new_image) \n",
    "cv2.imshow(\"new_image\",new_image)\n",
    "\n",
    "# saving license plate as an image \n",
    "#cv2.imwrite(\"3333_output.jpg\",Cropped)      \n",
    "\n",
    "cv2.waitKey(0)\n",
    "cv2.destroyAllWindows()"
   ]
  },
  {
   "cell_type": "code",
   "execution_count": 1,
   "metadata": {},
   "outputs": [
    {
     "name": "stdout",
     "output_type": "stream",
     "text": [
      "ceide613\n"
     ]
    }
   ],
   "source": [
    "import pytesseract\n",
    "import cv2\n",
    "#pytesseract.pytesseract.tesseract_cmd = r'C:\\Users\\Jigar_PAtel\\AppData\\Local\\Tesseract-OCR\\tesseract.exe'\n",
    "pytesseract.pytesseract.tesseract_cmd = r'C:\\Program Files\\Tesseract-OCR\\tesseract.exe'\n",
    "\n",
    "plate=cv2.imread('3333_output.jpg')\n",
    "# convert all color image to gray scale\n",
    "#plate= cv2.cvtColor(plate,cv2.COLOR_BGR2GRAY)\n",
    "\n",
    "text = pytesseract.image_to_string(plate, config='--psm 11')\n",
    "print(text)"
   ]
  },
  {
   "cell_type": "code",
   "execution_count": null,
   "metadata": {},
   "outputs": [],
   "source": []
  },
  {
   "cell_type": "code",
   "execution_count": null,
   "metadata": {},
   "outputs": [],
   "source": []
  }
 ],
 "metadata": {
  "kernelspec": {
   "display_name": "Python 3",
   "language": "python",
   "name": "python3"
  },
  "language_info": {
   "codemirror_mode": {
    "name": "ipython",
    "version": 3
   },
   "file_extension": ".py",
   "mimetype": "text/x-python",
   "name": "python",
   "nbconvert_exporter": "python",
   "pygments_lexer": "ipython3",
   "version": "3.7.1"
  }
 },
 "nbformat": 4,
 "nbformat_minor": 2
}
